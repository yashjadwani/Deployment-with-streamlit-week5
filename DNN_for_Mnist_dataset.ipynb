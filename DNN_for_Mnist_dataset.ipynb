{
  "cells": [
    {
      "cell_type": "markdown",
      "metadata": {
        "id": "GA8LdtvZmXIP"
      },
      "source": [
        "The MNIST database of handwritten digits, available from this page, has a training set of 60,000 examples, and a test set of 10,000 examples. It is a subset of a larger set available from NIST. The digits have been size-normalized and centered in a fixed-size image."
      ]
    },
    {
      "cell_type": "markdown",
      "metadata": {
        "id": "YNUIv2-jmggM"
      },
      "source": [
        "The original black and white (bilevel) images from NIST were size normalized to fit in a 20x20 pixel box while preserving their aspect ratio. The resulting images contain grey levels as a result of the anti-aliasing technique used by the normalization algorithm. the images were centered in a 28x28 image by computing the center of mass of the pixels, and translating the image so as to position this point at the center of the 28x28 field."
      ]
    },
    {
      "cell_type": "markdown",
      "metadata": {
        "id": "RmgS9oZ6nsbu"
      },
      "source": [
        "Used GPU/TPU for training this algorithm because NCHW(channel first) is not supported on general CPU"
      ]
    },
    {
      "cell_type": "markdown",
      "metadata": {
        "id": "Jgui7eawUO9c"
      },
      "source": [
        "\n",
        "#  Importing Libraries \n"
      ]
    },
    {
      "cell_type": "code",
      "execution_count": null,
      "metadata": {
        "id": "14JKcn5lLz14"
      },
      "outputs": [],
      "source": [
        "import numpy as np\n",
        "from keras import backend as K\n",
        "from keras.preprocessing.text import Tokenizer\n",
        "from keras.models import Sequential\n",
        "from keras.layers import Dense, Dropout, Flatten\n",
        "from keras.datasets import mnist\n",
        "from keras.layers.convolutional import Conv2D, MaxPooling2D\n",
        "from keras.utils import np_utils\n",
        "from keras import backend as K\n",
        "from sklearn.model_selection import train_test_split\n",
        "from sklearn import preprocessing\n",
        "import matplotlib.pyplot as plt\n",
        "from keras import regularizers\n",
        "import tensorflow as tf"
      ]
    },
    {
      "cell_type": "markdown",
      "metadata": {
        "id": "fmydpA8CWMzM"
      },
      "source": [
        "#### NHWC to NCHW -> changing channel settings for keras\n",
        "\n"
      ]
    },
    {
      "cell_type": "code",
      "execution_count": null,
      "metadata": {
        "id": "2GnueJOrMhrD"
      },
      "outputs": [],
      "source": [
        "#K.set_image_data_format(\"channels_first\")\n",
        "np.random.seed(0)"
      ]
    },
    {
      "cell_type": "code",
      "execution_count": null,
      "metadata": {
        "id": "mTL47sp1M0Ja"
      },
      "outputs": [],
      "source": [
        "channels =1\n",
        "height = 28\n",
        "width =28\n"
      ]
    },
    {
      "cell_type": "markdown",
      "metadata": {
        "id": "5tM3wzyzWJ4-"
      },
      "source": [
        "# Loading Dataset"
      ]
    },
    {
      "cell_type": "code",
      "execution_count": null,
      "metadata": {
        "colab": {
          "base_uri": "https://localhost:8080/"
        },
        "id": "ICgtUTysM4AR",
        "outputId": "465b1dfa-0b47-429c-bf3d-1d56d583d5df"
      },
      "outputs": [
        {
          "output_type": "stream",
          "name": "stdout",
          "text": [
            "Downloading data from https://storage.googleapis.com/tensorflow/tf-keras-datasets/mnist.npz\n",
            "11490434/11490434 [==============================] - 1s 0us/step\n",
            "(60000, 28, 28)\n",
            "(60000,)\n",
            "(10000, 28, 28)\n",
            "(10000,)\n"
          ]
        }
      ],
      "source": [
        "(data_train,target_train), (data_test, target_test)= mnist.load_data()\n",
        "print(data_train.shape)\n",
        "print(target_train.shape)\n",
        "print(data_test.shape)\n",
        "print(target_test.shape)"
      ]
    },
    {
      "cell_type": "markdown",
      "metadata": {
        "id": "OFO0vOg0g52S"
      },
      "source": [
        "# Exploring dataset and Pre processing\n",
        "\n",
        "*   Changing shapes\n",
        "*   Transformation\n",
        "*   Converting output to categorical(one hot encoding) \n",
        "\n",
        "\n",
        "\n",
        "\n"
      ]
    },
    {
      "cell_type": "code",
      "execution_count": null,
      "metadata": {
        "colab": {
          "base_uri": "https://localhost:8080/"
        },
        "id": "Daqp8EmRkmZw",
        "outputId": "9a7c3ce1-6042-4885-81b2-bd06d6bb67c2"
      },
      "outputs": [
        {
          "output_type": "execute_result",
          "data": {
            "text/plain": [
              "(60000, 28, 28)"
            ]
          },
          "metadata": {},
          "execution_count": 5
        }
      ],
      "source": [
        "data_train.shape"
      ]
    },
    {
      "cell_type": "code",
      "execution_count": null,
      "metadata": {
        "colab": {
          "base_uri": "https://localhost:8080/"
        },
        "id": "AHxOOen_kyiq",
        "outputId": "338ea054-a83b-4997-c046-a0361d30eb1a"
      },
      "outputs": [
        {
          "output_type": "execute_result",
          "data": {
            "text/plain": [
              "array([0, 0, 0, 0, 0, 0, 0, 0, 0, 0, 0, 0, 0, 0, 0, 0, 0, 0, 0, 0, 0, 0,\n",
              "       0, 0, 0, 0, 0, 0], dtype=uint8)"
            ]
          },
          "metadata": {},
          "execution_count": 6
        }
      ],
      "source": [
        "data_train[0][0]"
      ]
    },
    {
      "cell_type": "code",
      "execution_count": null,
      "metadata": {
        "id": "fs4e2eRrNGBh"
      },
      "outputs": [],
      "source": [
        "data_train = data_train.reshape(data_train.shape[0], height, width, channels)"
      ]
    },
    {
      "cell_type": "code",
      "execution_count": null,
      "metadata": {
        "colab": {
          "base_uri": "https://localhost:8080/"
        },
        "id": "Vvgyjn61knv2",
        "outputId": "700d147e-5c44-455e-a30d-831a26b0718e"
      },
      "outputs": [
        {
          "output_type": "execute_result",
          "data": {
            "text/plain": [
              "(60000, 28, 28, 1)"
            ]
          },
          "metadata": {},
          "execution_count": 8
        }
      ],
      "source": [
        "data_train.shape"
      ]
    },
    {
      "cell_type": "code",
      "execution_count": null,
      "metadata": {
        "colab": {
          "base_uri": "https://localhost:8080/"
        },
        "id": "8-zS-pKsNOsh",
        "outputId": "f530aea1-290b-416e-b0ec-c65e56d7ee28"
      },
      "outputs": [
        {
          "output_type": "stream",
          "name": "stdout",
          "text": [
            "(28, 28, 1)\n"
          ]
        }
      ],
      "source": [
        "data_test = data_test.reshape(data_test.shape[0], height, width, channels)\n",
        "\n",
        "print(data_test[0].shape)\n"
      ]
    },
    {
      "cell_type": "code",
      "execution_count": null,
      "metadata": {
        "colab": {
          "base_uri": "https://localhost:8080/"
        },
        "id": "3uMbb89-NW5Z",
        "outputId": "5dbdac1e-07fc-4591-9a9f-e7aa9d254c8c"
      },
      "outputs": [
        {
          "output_type": "stream",
          "name": "stdout",
          "text": [
            "[[[[0.]\n",
            "   [0.]\n",
            "   [0.]\n",
            "   ...\n",
            "   [0.]\n",
            "   [0.]\n",
            "   [0.]]\n",
            "\n",
            "  [[0.]\n",
            "   [0.]\n",
            "   [0.]\n",
            "   ...\n",
            "   [0.]\n",
            "   [0.]\n",
            "   [0.]]\n",
            "\n",
            "  [[0.]\n",
            "   [0.]\n",
            "   [0.]\n",
            "   ...\n",
            "   [0.]\n",
            "   [0.]\n",
            "   [0.]]\n",
            "\n",
            "  ...\n",
            "\n",
            "  [[0.]\n",
            "   [0.]\n",
            "   [0.]\n",
            "   ...\n",
            "   [0.]\n",
            "   [0.]\n",
            "   [0.]]\n",
            "\n",
            "  [[0.]\n",
            "   [0.]\n",
            "   [0.]\n",
            "   ...\n",
            "   [0.]\n",
            "   [0.]\n",
            "   [0.]]\n",
            "\n",
            "  [[0.]\n",
            "   [0.]\n",
            "   [0.]\n",
            "   ...\n",
            "   [0.]\n",
            "   [0.]\n",
            "   [0.]]]\n",
            "\n",
            "\n",
            " [[[0.]\n",
            "   [0.]\n",
            "   [0.]\n",
            "   ...\n",
            "   [0.]\n",
            "   [0.]\n",
            "   [0.]]\n",
            "\n",
            "  [[0.]\n",
            "   [0.]\n",
            "   [0.]\n",
            "   ...\n",
            "   [0.]\n",
            "   [0.]\n",
            "   [0.]]\n",
            "\n",
            "  [[0.]\n",
            "   [0.]\n",
            "   [0.]\n",
            "   ...\n",
            "   [0.]\n",
            "   [0.]\n",
            "   [0.]]\n",
            "\n",
            "  ...\n",
            "\n",
            "  [[0.]\n",
            "   [0.]\n",
            "   [0.]\n",
            "   ...\n",
            "   [0.]\n",
            "   [0.]\n",
            "   [0.]]\n",
            "\n",
            "  [[0.]\n",
            "   [0.]\n",
            "   [0.]\n",
            "   ...\n",
            "   [0.]\n",
            "   [0.]\n",
            "   [0.]]\n",
            "\n",
            "  [[0.]\n",
            "   [0.]\n",
            "   [0.]\n",
            "   ...\n",
            "   [0.]\n",
            "   [0.]\n",
            "   [0.]]]\n",
            "\n",
            "\n",
            " [[[0.]\n",
            "   [0.]\n",
            "   [0.]\n",
            "   ...\n",
            "   [0.]\n",
            "   [0.]\n",
            "   [0.]]\n",
            "\n",
            "  [[0.]\n",
            "   [0.]\n",
            "   [0.]\n",
            "   ...\n",
            "   [0.]\n",
            "   [0.]\n",
            "   [0.]]\n",
            "\n",
            "  [[0.]\n",
            "   [0.]\n",
            "   [0.]\n",
            "   ...\n",
            "   [0.]\n",
            "   [0.]\n",
            "   [0.]]\n",
            "\n",
            "  ...\n",
            "\n",
            "  [[0.]\n",
            "   [0.]\n",
            "   [0.]\n",
            "   ...\n",
            "   [0.]\n",
            "   [0.]\n",
            "   [0.]]\n",
            "\n",
            "  [[0.]\n",
            "   [0.]\n",
            "   [0.]\n",
            "   ...\n",
            "   [0.]\n",
            "   [0.]\n",
            "   [0.]]\n",
            "\n",
            "  [[0.]\n",
            "   [0.]\n",
            "   [0.]\n",
            "   ...\n",
            "   [0.]\n",
            "   [0.]\n",
            "   [0.]]]\n",
            "\n",
            "\n",
            " ...\n",
            "\n",
            "\n",
            " [[[0.]\n",
            "   [0.]\n",
            "   [0.]\n",
            "   ...\n",
            "   [0.]\n",
            "   [0.]\n",
            "   [0.]]\n",
            "\n",
            "  [[0.]\n",
            "   [0.]\n",
            "   [0.]\n",
            "   ...\n",
            "   [0.]\n",
            "   [0.]\n",
            "   [0.]]\n",
            "\n",
            "  [[0.]\n",
            "   [0.]\n",
            "   [0.]\n",
            "   ...\n",
            "   [0.]\n",
            "   [0.]\n",
            "   [0.]]\n",
            "\n",
            "  ...\n",
            "\n",
            "  [[0.]\n",
            "   [0.]\n",
            "   [0.]\n",
            "   ...\n",
            "   [0.]\n",
            "   [0.]\n",
            "   [0.]]\n",
            "\n",
            "  [[0.]\n",
            "   [0.]\n",
            "   [0.]\n",
            "   ...\n",
            "   [0.]\n",
            "   [0.]\n",
            "   [0.]]\n",
            "\n",
            "  [[0.]\n",
            "   [0.]\n",
            "   [0.]\n",
            "   ...\n",
            "   [0.]\n",
            "   [0.]\n",
            "   [0.]]]\n",
            "\n",
            "\n",
            " [[[0.]\n",
            "   [0.]\n",
            "   [0.]\n",
            "   ...\n",
            "   [0.]\n",
            "   [0.]\n",
            "   [0.]]\n",
            "\n",
            "  [[0.]\n",
            "   [0.]\n",
            "   [0.]\n",
            "   ...\n",
            "   [0.]\n",
            "   [0.]\n",
            "   [0.]]\n",
            "\n",
            "  [[0.]\n",
            "   [0.]\n",
            "   [0.]\n",
            "   ...\n",
            "   [0.]\n",
            "   [0.]\n",
            "   [0.]]\n",
            "\n",
            "  ...\n",
            "\n",
            "  [[0.]\n",
            "   [0.]\n",
            "   [0.]\n",
            "   ...\n",
            "   [0.]\n",
            "   [0.]\n",
            "   [0.]]\n",
            "\n",
            "  [[0.]\n",
            "   [0.]\n",
            "   [0.]\n",
            "   ...\n",
            "   [0.]\n",
            "   [0.]\n",
            "   [0.]]\n",
            "\n",
            "  [[0.]\n",
            "   [0.]\n",
            "   [0.]\n",
            "   ...\n",
            "   [0.]\n",
            "   [0.]\n",
            "   [0.]]]\n",
            "\n",
            "\n",
            " [[[0.]\n",
            "   [0.]\n",
            "   [0.]\n",
            "   ...\n",
            "   [0.]\n",
            "   [0.]\n",
            "   [0.]]\n",
            "\n",
            "  [[0.]\n",
            "   [0.]\n",
            "   [0.]\n",
            "   ...\n",
            "   [0.]\n",
            "   [0.]\n",
            "   [0.]]\n",
            "\n",
            "  [[0.]\n",
            "   [0.]\n",
            "   [0.]\n",
            "   ...\n",
            "   [0.]\n",
            "   [0.]\n",
            "   [0.]]\n",
            "\n",
            "  ...\n",
            "\n",
            "  [[0.]\n",
            "   [0.]\n",
            "   [0.]\n",
            "   ...\n",
            "   [0.]\n",
            "   [0.]\n",
            "   [0.]]\n",
            "\n",
            "  [[0.]\n",
            "   [0.]\n",
            "   [0.]\n",
            "   ...\n",
            "   [0.]\n",
            "   [0.]\n",
            "   [0.]]\n",
            "\n",
            "  [[0.]\n",
            "   [0.]\n",
            "   [0.]\n",
            "   ...\n",
            "   [0.]\n",
            "   [0.]\n",
            "   [0.]]]]\n"
          ]
        }
      ],
      "source": [
        "feature_train = data_train /255\n",
        "feature_test = data_test /255\n",
        "\n",
        "print(feature_test)"
      ]
    },
    {
      "cell_type": "code",
      "execution_count": null,
      "metadata": {
        "id": "516GXcXkN0cg"
      },
      "outputs": [],
      "source": [
        "target_train = np_utils.to_categorical(target_train)\n",
        "target_test = np_utils.to_categorical(target_test)"
      ]
    },
    {
      "cell_type": "code",
      "execution_count": null,
      "metadata": {
        "colab": {
          "base_uri": "https://localhost:8080/"
        },
        "id": "iObW8nDdN-TZ",
        "outputId": "9de3660c-c128-43e2-aa80-21263706fecf"
      },
      "outputs": [
        {
          "output_type": "stream",
          "name": "stdout",
          "text": [
            "10\n"
          ]
        }
      ],
      "source": [
        "number_of_classes = target_test.shape[1]\n",
        "print(number_of_classes)"
      ]
    },
    {
      "cell_type": "markdown",
      "metadata": {
        "id": "XzOQ87QihYsr"
      },
      "source": [
        "# Sequential CNN"
      ]
    },
    {
      "cell_type": "code",
      "execution_count": null,
      "metadata": {
        "id": "JTo8DINIOH8X"
      },
      "outputs": [],
      "source": [
        "network = Sequential()"
      ]
    },
    {
      "cell_type": "code",
      "execution_count": null,
      "metadata": {
        "id": "gXkVCU67OKjn"
      },
      "outputs": [],
      "source": [
        "## layer1\n",
        "network.add(Conv2D(filters=64,kernel_size=(5,5),input_shape=(width,height,channels), activation ='relu'))\n",
        "network.add(MaxPooling2D(pool_size=(2,2)))\n",
        "network.add(Dropout(0.5))\n",
        "\n",
        "network.add(Flatten())\n",
        "\n",
        "##layer2\n",
        "network.add(Dense(128, activation=\"relu\",kernel_regularizer=regularizers.l2(0.01)))\n",
        "network.add(Dropout(0.3))\n",
        "\n",
        "##layer3\n",
        "network.add(Dense(64, activation=\"relu\",kernel_regularizer=regularizers.l2(0.01)))\n",
        "network.add(Dropout(0.3))\n",
        "\n",
        "## output layer\n",
        "network.add(Dense(number_of_classes, activation=\"softmax\"))"
      ]
    },
    {
      "cell_type": "code",
      "execution_count": null,
      "metadata": {
        "id": "jMlZCyk_Pqbm"
      },
      "outputs": [],
      "source": [
        "## opt = tf.keras.optimizers.RMSprop(learning_rate=0.5)\n",
        "network.compile(loss=\"categorical_crossentropy\",\n",
        "                optimizer='rmsprop',\n",
        "                metrics = [\"accuracy\"])"
      ]
    },
    {
      "cell_type": "code",
      "execution_count": null,
      "metadata": {
        "colab": {
          "base_uri": "https://localhost:8080/"
        },
        "id": "XBzGTTOuP7k2",
        "outputId": "b8d71557-7781-4693-bdf8-57c41d6e5ba2"
      },
      "outputs": [
        {
          "output_type": "stream",
          "name": "stdout",
          "text": [
            "Epoch 1/20\n",
            "600/600 [==============================] - 17s 6ms/step - loss: 1.0021 - accuracy: 0.8738 - val_loss: 0.5030 - val_accuracy: 0.9413\n",
            "Epoch 2/20\n",
            "600/600 [==============================] - 3s 4ms/step - loss: 0.5112 - accuracy: 0.9322 - val_loss: 0.3688 - val_accuracy: 0.9693\n",
            "Epoch 3/20\n",
            "600/600 [==============================] - 3s 5ms/step - loss: 0.4533 - accuracy: 0.9393 - val_loss: 0.3232 - val_accuracy: 0.9729\n",
            "Epoch 4/20\n",
            "600/600 [==============================] - 3s 5ms/step - loss: 0.4248 - accuracy: 0.9438 - val_loss: 0.3250 - val_accuracy: 0.9714\n",
            "Epoch 5/20\n",
            "600/600 [==============================] - 3s 6ms/step - loss: 0.4069 - accuracy: 0.9464 - val_loss: 0.3228 - val_accuracy: 0.9692\n",
            "Epoch 6/20\n",
            "600/600 [==============================] - 3s 5ms/step - loss: 0.3936 - accuracy: 0.9477 - val_loss: 0.3262 - val_accuracy: 0.9669\n",
            "Epoch 7/20\n",
            "600/600 [==============================] - 3s 4ms/step - loss: 0.3810 - accuracy: 0.9502 - val_loss: 0.2971 - val_accuracy: 0.9732\n",
            "Epoch 8/20\n",
            "600/600 [==============================] - 3s 5ms/step - loss: 0.3735 - accuracy: 0.9492 - val_loss: 0.2896 - val_accuracy: 0.9723\n",
            "Epoch 9/20\n",
            "600/600 [==============================] - 3s 5ms/step - loss: 0.3644 - accuracy: 0.9518 - val_loss: 0.2812 - val_accuracy: 0.9735\n",
            "Epoch 10/20\n",
            "600/600 [==============================] - 3s 5ms/step - loss: 0.3582 - accuracy: 0.9529 - val_loss: 0.2952 - val_accuracy: 0.9680\n",
            "Epoch 11/20\n",
            "600/600 [==============================] - 3s 4ms/step - loss: 0.3547 - accuracy: 0.9523 - val_loss: 0.2853 - val_accuracy: 0.9728\n",
            "Epoch 12/20\n",
            "600/600 [==============================] - 3s 4ms/step - loss: 0.3436 - accuracy: 0.9547 - val_loss: 0.2748 - val_accuracy: 0.9748\n",
            "Epoch 13/20\n",
            "600/600 [==============================] - 3s 5ms/step - loss: 0.3462 - accuracy: 0.9535 - val_loss: 0.2606 - val_accuracy: 0.9777\n",
            "Epoch 14/20\n",
            "600/600 [==============================] - 3s 5ms/step - loss: 0.3412 - accuracy: 0.9545 - val_loss: 0.2795 - val_accuracy: 0.9710\n",
            "Epoch 15/20\n",
            "600/600 [==============================] - 3s 5ms/step - loss: 0.3384 - accuracy: 0.9548 - val_loss: 0.2589 - val_accuracy: 0.9782\n",
            "Epoch 16/20\n",
            "600/600 [==============================] - 3s 5ms/step - loss: 0.3382 - accuracy: 0.9544 - val_loss: 0.2809 - val_accuracy: 0.9673\n",
            "Epoch 17/20\n",
            "600/600 [==============================] - 3s 4ms/step - loss: 0.3336 - accuracy: 0.9550 - val_loss: 0.2656 - val_accuracy: 0.9739\n",
            "Epoch 18/20\n",
            "600/600 [==============================] - 3s 6ms/step - loss: 0.3337 - accuracy: 0.9554 - val_loss: 0.2626 - val_accuracy: 0.9737\n",
            "Epoch 19/20\n",
            "600/600 [==============================] - 3s 6ms/step - loss: 0.3285 - accuracy: 0.9566 - val_loss: 0.2591 - val_accuracy: 0.9760\n",
            "Epoch 20/20\n",
            "600/600 [==============================] - 3s 5ms/step - loss: 0.3221 - accuracy: 0.9571 - val_loss: 0.2604 - val_accuracy: 0.9738\n"
          ]
        }
      ],
      "source": [
        "history = network.fit(feature_train,\n",
        "                      target_train,\n",
        "                epochs =20,\n",
        "                verbose=1,\n",
        "                batch_size=100,\n",
        "                validation_data= (feature_test, target_test))"
      ]
    },
    {
      "cell_type": "code",
      "execution_count": null,
      "metadata": {
        "id": "E8VRw9VwQEke"
      },
      "outputs": [],
      "source": [
        "# get training and testing loss histories\n",
        "training_loss = history.history[\"loss\"]\n",
        "test_loss = history.history[\"val_loss\"]\n",
        "# create count of the number of epochs\n",
        "epoch_count = range(1, len(training_loss)+1)"
      ]
    },
    {
      "cell_type": "code",
      "execution_count": null,
      "metadata": {
        "colab": {
          "base_uri": "https://localhost:8080/",
          "height": 279
        },
        "id": "Z07tey0WRVN6",
        "outputId": "1d7bbf25-3e0d-42a8-8627-f248e0bbd58a"
      },
      "outputs": [
        {
          "output_type": "display_data",
          "data": {
            "text/plain": [
              "<Figure size 432x288 with 1 Axes>"
            ],
            "image/png": "[encoded data removed]"
          },
          "metadata": {
            "needs_background": "light"
          }
        }
      ],
      "source": [
        "# visualise loss history\n",
        "plt.plot(epoch_count, training_loss, \"r--\")\n",
        "plt.plot(epoch_count, test_loss, \"b--\")\n",
        "plt.legend([\"Training Loss\", \"Test Loss\"])\n",
        "plt.xlabel(\"Epoch\")\n",
        "plt.ylabel(\"Loss\")\n",
        "plt.show()"
      ]
    },
    {
      "cell_type": "code",
      "execution_count": null,
      "metadata": {
        "colab": {
          "base_uri": "https://localhost:8080/",
          "height": 279
        },
        "id": "CbgrEP1x7mQk",
        "outputId": "2b0d2c83-08c5-457a-e7e5-9d1d210a9838"
      },
      "outputs": [
        {
          "output_type": "display_data",
          "data": {
            "text/plain": [
              "<Figure size 432x288 with 1 Axes>"
            ],
            "image/png": "[encoded data removed]"
          },
          "metadata": {
            "needs_background": "light"
          }
        }
      ],
      "source": [
        "training_accuracy= history.history[\"accuracy\"]\n",
        "testing_accuracy= history.history[\"val_accuracy\"]\n",
        "plt.plot(epoch_count, training_accuracy, \"r--\")\n",
        "plt.plot(epoch_count, testing_accuracy, \"b--\")\n",
        "plt.legend([\"Accuracy\", \"validation Accuracy\"])\n",
        "plt.xlabel(\"Epoch\")\n",
        "plt.ylabel(\"Accuracy\")\n",
        "plt.show()"
      ]
    },
    {
      "cell_type": "markdown",
      "metadata": {
        "id": "Ael1GF4ahcqJ"
      },
      "source": [
        "# Importing more Libraries for accuracy scores "
      ]
    },
    {
      "cell_type": "code",
      "execution_count": null,
      "metadata": {
        "id": "ZXC6DPf4Zo7y"
      },
      "outputs": [],
      "source": [
        "from sklearn.metrics import accuracy_score,precision_score,recall_score, f1_score,confusion_matrix,classification_report,ConfusionMatrixDisplay"
      ]
    },
    {
      "cell_type": "code",
      "execution_count": null,
      "metadata": {
        "id": "1fQHePlSZpiZ",
        "colab": {
          "base_uri": "https://localhost:8080/"
        },
        "outputId": "9338eccb-df7d-4811-b378-30a70a8c2a2b"
      },
      "outputs": [
        {
          "output_type": "stream",
          "name": "stdout",
          "text": [
            "313/313 [==============================] - 1s 2ms/step\n"
          ]
        }
      ],
      "source": [
        "predict_x=network.predict(feature_test) \n",
        "classes_x=np.argmax(predict_x,axis=1)\n",
        "target = np.argmax(target_test, axis = 1)"
      ]
    },
    {
      "cell_type": "code",
      "execution_count": null,
      "metadata": {
        "colab": {
          "base_uri": "https://localhost:8080/"
        },
        "id": "iA5Ghg1bkndM",
        "outputId": "e7e9b88c-ac25-46f4-a959-8088401a9558"
      },
      "outputs": [
        {
          "output_type": "stream",
          "name": "stdout",
          "text": [
            "Number of correct labels predicted : 9738 out of 10000\n"
          ]
        }
      ],
      "source": [
        "print(f\"Number of correct labels predicted : {(target == classes_x).sum()} out of {data_test.shape[0]}\")"
      ]
    },
    {
      "cell_type": "code",
      "execution_count": null,
      "metadata": {
        "colab": {
          "base_uri": "https://localhost:8080/",
          "height": 597
        },
        "id": "1daBrsXhknnD",
        "outputId": "25e96496-5c5a-4fe1-8c82-9d41b3f3fecc"
      },
      "outputs": [
        {
          "output_type": "execute_result",
          "data": {
            "text/plain": [
              "<sklearn.metrics._plot.confusion_matrix.ConfusionMatrixDisplay at 0x7f28ec0ee940>"
            ]
          },
          "metadata": {},
          "execution_count": 23
        },
        {
          "output_type": "display_data",
          "data": {
            "text/plain": [
              "<Figure size 720x720 with 2 Axes>"
            ],
            "image/png": "[encoded data removed]"
          },
          "metadata": {
            "needs_background": "light"
          }
        }
      ],
      "source": [
        "cm = confusion_matrix(target,classes_x)\n",
        "cm_display = ConfusionMatrixDisplay(cm)\n",
        "fig, ax = plt.subplots(figsize=(10,10))\n",
        "cm_display.plot(ax=ax)"
      ]
    },
    {
      "cell_type": "code",
      "execution_count": null,
      "metadata": {
        "colab": {
          "base_uri": "https://localhost:8080/"
        },
        "id": "NF8fJed5mB88",
        "outputId": "53cbff6e-3076-40f9-ada4-9357ecb309c5"
      },
      "outputs": [
        {
          "output_type": "stream",
          "name": "stdout",
          "text": [
            "              precision    recall  f1-score   support\n",
            "\n",
            "           0       0.98      0.98      0.98       980\n",
            "           1       0.99      0.99      0.99      1135\n",
            "           2       0.95      0.98      0.96      1032\n",
            "           3       0.97      0.98      0.97      1010\n",
            "           4       0.98      0.98      0.98       982\n",
            "           5       0.99      0.97      0.98       892\n",
            "           6       0.98      0.98      0.98       958\n",
            "           7       0.93      0.98      0.96      1028\n",
            "           8       0.99      0.96      0.97       974\n",
            "           9       1.00      0.92      0.95      1009\n",
            "\n",
            "    accuracy                           0.97     10000\n",
            "   macro avg       0.97      0.97      0.97     10000\n",
            "weighted avg       0.97      0.97      0.97     10000\n",
            "\n"
          ]
        }
      ],
      "source": [
        "print(classification_report(target, classes_x))"
      ]
    },
    {
      "cell_type": "code",
      "execution_count": null,
      "metadata": {
        "colab": {
          "base_uri": "https://localhost:8080/"
        },
        "id": "knnkaF4laRRc",
        "outputId": "2a9a2435-f15a-4605-a310-66bcddde39a2"
      },
      "outputs": [
        {
          "output_type": "stream",
          "name": "stdout",
          "text": [
            "Precision : 0.9743776108060611\n",
            "Accuracy : 0.9738\n",
            "Recall : 0.9735705626239801\n",
            "F1 Accuracy : 0.9738\n"
          ]
        }
      ],
      "source": [
        "accuracy = accuracy_score(target, classes_x)\n",
        "precision = precision_score(target, classes_x,average='weighted')\n",
        "recall = recall_score(target, classes_x,average='macro')\n",
        "f1 = f1_score(target, classes_x,average='micro')\n",
        "print(f\"Precision : {precision}\")\n",
        "print(f\"Accuracy : {accuracy}\")\n",
        "print(f\"Recall : {recall}\")\n",
        "print(f\"F1 Accuracy : {f1}\")"
      ]
    },
    {
      "cell_type": "code",
      "source": [
        "tf.keras.utils.plot_model(network, show_shapes=True)"
      ],
      "metadata": {
        "colab": {
          "base_uri": "https://localhost:8080/",
          "height": 1000
        },
        "id": "-BAzzy3_LZWj",
        "outputId": "42a0e83f-d87f-4563-b699-44cbce3f801a"
      },
      "execution_count": null,
      "outputs": [
        {
          "output_type": "execute_result",
          "data": {
            "image/png": "[encoded data removed]",
            "text/plain": [
              "<IPython.core.display.Image object>"
            ]
          },
          "metadata": {},
          "execution_count": 27
        }
      ]
    },
    {
      "cell_type": "markdown",
      "metadata": {
        "id": "6q1FKVVw_BcC"
      },
      "source": [
        "#### Pickle Out the model"
      ]
    },
    {
      "cell_type": "code",
      "execution_count": null,
      "metadata": {
        "id": "cGko6uBd_BcC"
      },
      "outputs": [],
      "source": [
        "import pickle\n",
        "pickle_out = open(\"mnist_model.pkl\", \"wb\")\n",
        "pickle.dump(history, pickle_out)\n",
        "pickle_out.close()"
      ]
    },
    {
      "cell_type": "markdown",
      "metadata": {
        "id": "DqPmpT2R_BcC"
      },
      "source": [
        "### Saving the Model "
      ]
    },
    {
      "cell_type": "code",
      "execution_count": null,
      "metadata": {
        "id": "23jbHSdN_BcC"
      },
      "outputs": [],
      "source": [
        "# Saving the model for Future Inferences\n",
        "\n",
        "network.save(\"model.h5\")"
      ]
    },
    {
      "cell_type": "code",
      "source": [
        "fig = plt.figure\n",
        "plt.imshow(feature_test[1], cmap='gray')\n",
        "plt.show()"
      ],
      "metadata": {
        "colab": {
          "base_uri": "https://localhost:8080/",
          "height": 265
        },
        "id": "iSf4fm84_Ehz",
        "outputId": "012f9b66-1901-4e32-f6a4-bf7b9b028b17"
      },
      "execution_count": null,
      "outputs": [
        {
          "output_type": "display_data",
          "data": {
            "text/plain": [
              "<Figure size 432x288 with 1 Axes>"
            ],
            "image/png": "[encoded data removed]"
          },
          "metadata": {
            "needs_background": "light"
          }
        }
      ]
    },
    {
      "cell_type": "code",
      "source": [
        "classes_x[1]\n"
      ],
      "metadata": {
        "id": "W5Z3bT2ifOqJ"
      },
      "execution_count": null,
      "outputs": []
    }
  ],
  "metadata": {
    "accelerator": "GPU",
    "colab": {
      "provenance": []
    },
    "kernelspec": {
      "display_name": "Python 3",
      "name": "python3"
    },
    "language_info": {
      "codemirror_mode": {
        "name": "ipython",
        "version": 3
      },
      "file_extension": ".py",
      "mimetype": "text/x-python",
      "name": "python",
      "nbconvert_exporter": "python",
      "pygments_lexer": "ipython3",
      "version": "3.10.5"
    },
    "gpuClass": "standard"
  },
  "nbformat": 4,
  "nbformat_minor": 0
}